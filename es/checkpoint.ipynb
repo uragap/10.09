{
  "cells": [
    {
      "cell_type": "markdown",
      "metadata": {
        "colab_type": "text",
        "id": "Pnn4rDWGqDZL"
      },
      "source": [
        "##### Copyright 2018 Los autores de TensorFlow."
      ]
    },
    {
      "cell_type": "code",
      "execution_count": 0,
      "metadata": {
        "cellView": "form",
        "colab": {
        },
        "colab_type": "code",
        "id": "l534d35Gp68G"
      },
      "outputs": [

      ],
      "source": [
        "#@title Licensed under the Apache License, Version 2.0 (the \"License\");\n",
        "# you may not use this file except in compliance with the License.\n",
        "# You may obtain a copy of the License at\n",
        "#\n",
        "# https://www.apache.org/licenses/LICENSE-2.0\n",
        "#\n",
        "# Unless required by applicable law or agreed to in writing, software\n",
        "# distributed under the License is distributed on an \"AS IS\" BASIS,\n",
        "# WITHOUT WARRANTIES OR CONDITIONS OF ANY KIND, either express or implied.\n",
        "# See the License for the specific language governing permissions and\n",
        "# limitations under the License."
      ]
    },
    {
      "cell_type": "markdown",
      "metadata": {
        "colab_type": "text",
        "id": "3TI3Q3XBesaS"
      },
      "source": [
        "# Puntos de control de entrenamiento"
      ]
    },
    {
      "cell_type": "markdown",
      "metadata": {
        "colab_type": "text",
        "id": "yw_a0iGucY8z"
      },
      "source": [
        "<table class=\"tfo-notebook-buttons\" align=\"left\">\n",
        "  <td><a target=\"_blank\" href=\"https://www.tensorflow.org/guide/checkpoint\"><img src=\"https://www.tensorflow.org/images/tf_logo_32px.png\">Ver en TensorFlow.org</a></td>\n",
        "  <td><a target=\"_blank\" href=\"https://colab.research.google.com/github/tensorflow/docs/blob/master/site/en/guide/checkpoint.ipynb\"><img src=\"https://www.tensorflow.org/images/colab_logo_32px.png\">Ejecutar en Google Colab</a></td>\n",
        "  <td><a target=\"_blank\" href=\"https://github.com/tensorflow/docs/blob/master/site/en/guide/checkpoint.ipynb\"><img src=\"https://www.tensorflow.org/images/GitHub-Mark-32px.png\">Ver fuente en GitHub</a></td>\n",
        "  <td><a href=\"https://storage.googleapis.com/tensorflow_docs/docs/site/en/guide/checkpoint.ipynb\"><img src=\"https://www.tensorflow.org/images/download_logo_32px.png\">Descargar cuaderno</a></td>\n",
        "</table>"
      ]
    },
    {
      "cell_type": "markdown",
      "metadata": {
        "colab_type": "text",
        "id": "LeDp7dovcbus"
      },
      "source": [
        "La frase \"Guardar un modelo de TensorFlow\" generalmente significa una de dos cosas:\n",
        "\n",
        "1. Puntos de control, O\n",
        "2. SavedModel.\n",
        "\n",
        "Los puntos de control capturan el valor exacto de todos los parámetros ( `tf.Variable` ) utilizados por un modelo. Los puntos de control no contienen ninguna descripción del cálculo definido por el modelo y, por lo tanto, generalmente solo son útiles cuando el código fuente que utilizará los valores de los parámetros guardados está disponible.\n",
        "\n",
        "El formato SavedModel, por otro lado, incluye una descripción serializada del cálculo definido por el modelo además de los valores de los parámetros (punto de control). Los modelos en este formato son independientes del código fuente que creó el modelo. Por lo tanto, son adecuados para su implementación a través de TensorFlow Serving, TensorFlow Lite, TensorFlow.js o programas en otros lenguajes de programación (las API de C, C ++, Java, Go, Rust, C #, etc. TensorFlow).\n",
        "\n",
        "Esta guía cubre las API para escribir y leer puntos de control."
      ]
    },
    {
      "cell_type": "markdown",
      "metadata": {
        "colab_type": "text",
        "id": "U0nm8k-6xfh2"
      },
      "source": [
        "## Preparar"
      ]
    },
    {
      "cell_type": "code",
      "execution_count": 0,
      "metadata": {
        "colab": {
        },
        "colab_type": "code",
        "id": "VEvpMYAKsC4z"
      },
      "outputs": [

      ],
      "source": [
        "import tensorflow as tf"
      ]
    },
    {
      "cell_type": "code",
      "execution_count": 0,
      "metadata": {
        "colab": {
        },
        "colab_type": "code",
        "id": "OEQCseyeC4Ev"
      },
      "outputs": [

      ],
      "source": [
        "class Net(tf.keras.Model):\n",
        "  \"\"\"A simple linear model.\"\"\"\n",
        "\n",
        "  def __init__(self):\n",
        "    super(Net, self).__init__()\n",
        "    self.l1 = tf.keras.layers.Dense(5)\n",
        "\n",
        "  def call(self, x):\n",
        "    return self.l1(x)"
      ]
    },
    {
      "cell_type": "code",
      "execution_count": 0,
      "metadata": {
        "colab": {
        },
        "colab_type": "code",
        "id": "utqeoDADC5ZR"
      },
      "outputs": [

      ],
      "source": [
        "net = Net()"
      ]
    },
    {
      "cell_type": "markdown",
      "metadata": {
        "colab_type": "text",
        "id": "5vsq3-pffo1I"
      },
      "source": [
        "## Guardar desde las API de entrenamiento de `tf.keras`\n",
        "\n",
        "See the [`tf.keras` guide on saving and restoring](./keras/overview.ipynb#save_and_restore).\n",
        "\n",
        "`tf.keras.Model.save_weights` guarda un punto de control de TensorFlow. "
      ]
    },
    {
      "cell_type": "code",
      "execution_count": 0,
      "metadata": {
        "colab": {
        },
        "colab_type": "code",
        "id": "SuhmrYPEl4D_"
      },
      "outputs": [

      ],
      "source": [
        "net.save_weights('easy_checkpoint')"
      ]
    },
    {
      "cell_type": "markdown",
      "metadata": {
        "colab_type": "text",
        "id": "XseWX5jDg4lQ"
      },
      "source": [
        "## Escribir puntos de control\n"
      ]
    },
    {
      "cell_type": "markdown",
      "metadata": {
        "colab_type": "text",
        "id": "1jpZPz76ZP3K"
      },
      "source": [
        "El estado persistente de un modelo de TensorFlow se almacena en objetos `tf.Variable` . Estos se pueden construir directamente, pero a menudo se crean a través de API de alto nivel como `tf.keras.layers` o `tf.keras.Model` .\n",
        "\n",
        "La forma más sencilla de administrar variables es adjuntarlas a objetos de Python y luego hacer referencia a esos objetos.\n",
        "\n",
        "Las subclases de `tf.train.Checkpoint` , `tf.keras.layers.Layer` y `tf.keras.Model` un seguimiento automático de las variables asignadas a sus atributos. El siguiente ejemplo construye un modelo lineal simple, luego escribe puntos de control que contienen valores para todas las variables del modelo."
      ]
    },
    {
      "cell_type": "markdown",
      "metadata": {
        "colab_type": "text",
        "id": "x0vFBr_Im73_"
      },
      "source": [
        "Puede guardar fácilmente un punto de control de modelo con `Model.save_weights`"
      ]
    },
    {
      "cell_type": "markdown",
      "metadata": {
        "colab_type": "text",
        "id": "FHTJ1JzxCi8a"
      },
      "source": [
        "### Punto de control manual"
      ]
    },
    {
      "cell_type": "markdown",
      "metadata": {
        "colab_type": "text",
        "id": "6cF9fqYOCrEO"
      },
      "source": [
        "#### Preparar"
      ]
    },
    {
      "cell_type": "markdown",
      "metadata": {
        "colab_type": "text",
        "id": "fNjf9KaLdIRP"
      },
      "source": [
        "Para ayudar a demostrar todas las características de `tf.train.Checkpoint` defina un conjunto de datos de juguetes y un paso de optimización:"
      ]
    },
    {
      "cell_type": "code",
      "execution_count": 0,
      "metadata": {
        "colab": {
        },
        "colab_type": "code",
        "id": "tSNyP4IJ9nkU"
      },
      "outputs": [

      ],
      "source": [
        "def toy_dataset():\n",
        "  inputs = tf.range(10.)[:, None]\n",
        "  labels = inputs * 5. + tf.range(5.)[None, :]\n",
        "  return tf.data.Dataset.from_tensor_slices(\n",
        "    dict(x=inputs, y=labels)).repeat().batch(2)"
      ]
    },
    {
      "cell_type": "code",
      "execution_count": 0,
      "metadata": {
        "colab": {
        },
        "colab_type": "code",
        "id": "ICm1cufh_JH8"
      },
      "outputs": [

      ],
      "source": [
        "def train_step(net, example, optimizer):\n",
        "  \"\"\"Trains `net` on `example` using `optimizer`.\"\"\"\n",
        "  with tf.GradientTape() as tape:\n",
        "    output = net(example['x'])\n",
        "    loss = tf.reduce_mean(tf.abs(output - example['y']))\n",
        "  variables = net.trainable_variables\n",
        "  gradients = tape.gradient(loss, variables)\n",
        "  optimizer.apply_gradients(zip(gradients, variables))\n",
        "  return loss"
      ]
    },
    {
      "cell_type": "markdown",
      "metadata": {
        "colab_type": "text",
        "id": "vxzGpHRbOVO6"
      },
      "source": [
        "#### Crea los objetos de punto de control\n",
        "\n",
        "Para hacer un punto de control manualmente, necesitará un objeto `tf.train.Checkpoint` . Donde los objetos que desea controlar se establecen como atributos en el objeto.\n",
        "\n",
        "Un `tf.train.CheckpointManager` también puede ser útil para administrar múltiples puntos de control."
      ]
    },
    {
      "cell_type": "code",
      "execution_count": 0,
      "metadata": {
        "colab": {
        },
        "colab_type": "code",
        "id": "ou5qarOQOWYl"
      },
      "outputs": [

      ],
      "source": [
        "opt = tf.keras.optimizers.Adam(0.1)\n",
        "dataset = toy_dataset()\n",
        "iterator = iter(dataset)\n",
        "ckpt = tf.train.Checkpoint(step=tf.Variable(1), optimizer=opt, net=net, iterator=iterator)\n",
        "manager = tf.train.CheckpointManager(ckpt, './tf_ckpts', max_to_keep=3)"
      ]
    },
    {
      "cell_type": "markdown",
      "metadata": {
        "colab_type": "text",
        "id": "8ZbYSD4uCy96"
      },
      "source": [
        "#### Entrene y controle el modelo"
      ]
    },
    {
      "cell_type": "markdown",
      "metadata": {
        "colab_type": "text",
        "id": "NP9IySmCeCkn"
      },
      "source": [
        "El siguiente ciclo de entrenamiento crea una instancia del modelo y de un optimizador, luego los reúne en un objeto `tf.train.Checkpoint` . Llama al paso de entrenamiento en un bucle en cada lote de datos y escribe puntos de control periódicamente en el disco."
      ]
    },
    {
      "cell_type": "code",
      "execution_count": 0,
      "metadata": {
        "colab": {
        },
        "colab_type": "code",
        "id": "BbCS5A6K1VSH"
      },
      "outputs": [

      ],
      "source": [
        "def train_and_checkpoint(net, manager):\n",
        "  ckpt.restore(manager.latest_checkpoint)\n",
        "  if manager.latest_checkpoint:\n",
        "    print(\"Restored from {}\".format(manager.latest_checkpoint))\n",
        "  else:\n",
        "    print(\"Initializing from scratch.\")\n",
        "\n",
        "  for _ in range(50):\n",
        "    example = next(iterator)\n",
        "    loss = train_step(net, example, opt)\n",
        "    ckpt.step.assign_add(1)\n",
        "    if int(ckpt.step) % 10 == 0:\n",
        "      save_path = manager.save()\n",
        "      print(\"Saved checkpoint for step {}: {}\".format(int(ckpt.step), save_path))\n",
        "      print(\"loss {:1.2f}\".format(loss.numpy()))"
      ]
    },
    {
      "cell_type": "code",
      "execution_count": 0,
      "metadata": {
        "colab": {
        },
        "colab_type": "code",
        "id": "Ik3IBMTdPW41"
      },
      "outputs": [

      ],
      "source": [
        "train_and_checkpoint(net, manager)"
      ]
    },
    {
      "cell_type": "markdown",
      "metadata": {
        "colab_type": "text",
        "id": "2wzcc1xYN-sH"
      },
      "source": [
        "#### Restaurar y continuar entrenando"
      ]
    },
    {
      "cell_type": "markdown",
      "metadata": {
        "colab_type": "text",
        "id": "lw1QeyRBgsLE"
      },
      "source": [
        "Después del primero, puede aprobar un nuevo modelo y gerente, pero retome el entrenamiento exactamente donde lo dejó:"
      ]
    },
    {
      "cell_type": "code",
      "execution_count": 0,
      "metadata": {
        "colab": {
        },
        "colab_type": "code",
        "id": "UjilkTOV2PBK"
      },
      "outputs": [

      ],
      "source": [
        "opt = tf.keras.optimizers.Adam(0.1)\n",
        "net = Net()\n",
        "dataset = toy_dataset()\n",
        "iterator = iter(dataset)\n",
        "ckpt = tf.train.Checkpoint(step=tf.Variable(1), optimizer=opt, net=net, iterator=iterator)\n",
        "manager = tf.train.CheckpointManager(ckpt, './tf_ckpts', max_to_keep=3)\n",
        "\n",
        "train_and_checkpoint(net, manager)"
      ]
    },
    {
      "cell_type": "markdown",
      "metadata": {
        "colab_type": "text",
        "id": "dxJT9vV-2PnZ"
      },
      "source": [
        "El objeto `tf.train.CheckpointManager` elimina los puntos de control antiguos. Arriba está configurado para mantener solo los tres puntos de control más recientes."
      ]
    },
    {
      "cell_type": "code",
      "execution_count": 0,
      "metadata": {
        "colab": {
        },
        "colab_type": "code",
        "id": "3zmM0a-F5XqC"
      },
      "outputs": [

      ],
      "source": [
        "print(manager.checkpoints)  # List the three remaining checkpoints"
      ]
    },
    {
      "cell_type": "markdown",
      "metadata": {
        "colab_type": "text",
        "id": "qwlYDyjemY4P"
      },
      "source": [
        "Estas rutas, por ejemplo, `'./tf_ckpts/ckpt-10'` , no son archivos en el disco. En su lugar, son prefijos para un archivo de `index` y uno o más archivos de datos que contienen los valores de las variables. Estos prefijos se agrupan en un solo archivo de `checkpoint` ( `'./tf_ckpts/checkpoint'` ) donde `CheckpointManager` guarda su estado."
      ]
    },
    {
      "cell_type": "code",
      "execution_count": 0,
      "metadata": {
        "colab": {
        },
        "colab_type": "code",
        "id": "t1feej9JntV_"
      },
      "outputs": [

      ],
      "source": [
        "!ls ./tf_ckpts"
      ]
    },
    {
      "cell_type": "markdown",
      "metadata": {
        "colab_type": "text",
        "id": "DR2wQc9x6b3X"
      },
      "source": [
        "<a id=\"loading_mechanics\"></a>\n",
        "\n",
        "## Mecánica de carga\n",
        "\n",
        "TensorFlow hace coincidir las variables con los valores marcados atravesando un gráfico dirigido con bordes con nombre, comenzando desde el objeto que se está cargando. Los nombres de los bordes normalmente provienen de los nombres de los atributos en los objetos, por ejemplo, `\"l1\"` en `self.l1 = tf.keras.layers.Dense(5)` . `tf.train.Checkpoint` usa sus nombres de argumentos de palabra clave, como en el `\"step\"` en `tf.train.Checkpoint(step=...)` .\n",
        "\n",
        "El gráfico de dependencia del ejemplo anterior se ve así:\n",
        "\n",
        "![Visualización del gráfico de dependencia para el ciclo de entrenamiento de ejemplo](https://tensorflow.org/images/guide/whole_checkpoint.svg)\n",
        "\n",
        "Con el optimizador en rojo, las variables regulares en azul y las variables de ranura del optimizador en naranja. Los otros nodos, por ejemplo, que representan el `tf.train.Checkpoint` , son negros.\n",
        "\n",
        "Las variables de ranura son parte del estado del optimizador, pero se crean para una variable específica. Por ejemplo, los bordes `'m'` arriba corresponden al impulso, que el optimizador de Adam rastrea para cada variable. Las variables de ranura solo se guardan en un punto de control si la variable y el optimizador se guardarían ambos, por lo tanto, los bordes discontinuos."
      ]
    },
    {
      "cell_type": "markdown",
      "metadata": {
        "colab_type": "text",
        "id": "VpY5IuanUEQ0"
      },
      "source": [
        "Llamar a `restore()` en un objeto `tf.train.Checkpoint` cola las restauraciones solicitadas, restaurando los valores de las variables tan pronto como haya una ruta coincidente desde el objeto `Checkpoint` . Por ejemplo, podemos cargar solo el sesgo del modelo que definimos anteriormente reconstruyendo una ruta hacia él a través de la red y la capa."
      ]
    },
    {
      "cell_type": "code",
      "execution_count": 0,
      "metadata": {
        "colab": {
        },
        "colab_type": "code",
        "id": "wmX2AuyH7TVt"
      },
      "outputs": [

      ],
      "source": [
        "to_restore = tf.Variable(tf.zeros([5]))\n",
        "print(to_restore.numpy())  # All zeros\n",
        "fake_layer = tf.train.Checkpoint(bias=to_restore)\n",
        "fake_net = tf.train.Checkpoint(l1=fake_layer)\n",
        "new_root = tf.train.Checkpoint(net=fake_net)\n",
        "status = new_root.restore(tf.train.latest_checkpoint('./tf_ckpts/'))\n",
        "print(to_restore.numpy())  # We get the restored value now"
      ]
    },
    {
      "cell_type": "markdown",
      "metadata": {
        "colab_type": "text",
        "id": "GqEW-_pJDAnE"
      },
      "source": [
        "El gráfico de dependencia para estos nuevos objetos es un subgráfico mucho más pequeño del punto de control más grande que escribimos anteriormente. Incluye solo el sesgo y un contador de guardado que `tf.train.Checkpoint` usa para numerar los puntos de control.\n",
        "\n",
        "![Visualización de un subgrafo para la variable de sesgo](https://tensorflow.org/images/guide/partial_checkpoint.svg)\n",
        "\n",
        "`restore()` devuelve un objeto de estado, que tiene aserciones opcionales. Todos los objetos que hemos creado en nuestro nuevo `Checkpoint` han sido restaurados, por lo que `status.assert_existing_objects_matched()` pasa."
      ]
    },
    {
      "cell_type": "code",
      "execution_count": 0,
      "metadata": {
        "colab": {
        },
        "colab_type": "code",
        "id": "P9TQXl81Dq5r"
      },
      "outputs": [

      ],
      "source": [
        "status.assert_existing_objects_matched()"
      ]
    },
    {
      "cell_type": "markdown",
      "metadata": {
        "colab_type": "text",
        "id": "GoMwf8CFDu9r"
      },
      "source": [
        "Hay muchos objetos en el punto de control que no coinciden, incluido el kernel de la capa y las variables del optimizador. `status.assert_consumed()` solo pasa si el punto de control y el programa coinciden exactamente, y arrojaría una excepción aquí."
      ]
    },
    {
      "cell_type": "markdown",
      "metadata": {
        "colab_type": "text",
        "id": "KCcmJ-2j9RUP"
      },
      "source": [
        "### Restauraciones retrasadas\n",
        "\n",
        "`Layer` objects in TensorFlow may delay the creation of variables to their first call, when input shapes are available. For example the shape of a `Dense` layer's kernel depends on both the layer's input and output shapes, and so the output shape required as a constructor argument is not enough information to create the variable on its own. Since calling a `Layer` also reads the variable's value, a restore must happen between the variable's creation and its first use.\n",
        "\n",
        "Para admitir este idioma, `tf.train.Checkpoint` restaura las colas que aún no tienen una variable coincidente."
      ]
    },
    {
      "cell_type": "code",
      "execution_count": 0,
      "metadata": {
        "colab": {
        },
        "colab_type": "code",
        "id": "TXYUCO3v-I72"
      },
      "outputs": [

      ],
      "source": [
        "delayed_restore = tf.Variable(tf.zeros([1, 5]))\n",
        "print(delayed_restore.numpy())  # Not restored; still zeros\n",
        "fake_layer.kernel = delayed_restore\n",
        "print(delayed_restore.numpy())  # Restored"
      ]
    },
    {
      "cell_type": "markdown",
      "metadata": {
        "colab_type": "text",
        "id": "-DWhJ3glyobN"
      },
      "source": [
        "### Inspección manual de puntos de control\n",
        "\n",
        "`tf.train.list_variables` enumera las claves del punto de control y las formas de las variables en un punto de control. Las claves de los puntos de control son rutas en el gráfico que se muestra arriba."
      ]
    },
    {
      "cell_type": "code",
      "execution_count": 0,
      "metadata": {
        "colab": {
        },
        "colab_type": "code",
        "id": "RlRsADTezoBD"
      },
      "outputs": [

      ],
      "source": [
        "tf.train.list_variables(tf.train.latest_checkpoint('./tf_ckpts/'))"
      ]
    },
    {
      "cell_type": "markdown",
      "metadata": {
        "colab_type": "text",
        "id": "5fxk_BnZ4W1b"
      },
      "source": [
        "### Seguimiento de listas y diccionarios\n",
        "\n",
        "Al igual que con las asignaciones directas de atributos como `self.l1 = tf.keras.layers.Dense(5)` , la asignación de listas y diccionarios a los atributos hará un seguimiento de su contenido."
      ]
    },
    {
      "cell_type": "code",
      "execution_count": 0,
      "metadata": {
        "colab": {
        },
        "colab_type": "code",
        "id": "rfaIbDtDHAr_"
      },
      "outputs": [

      ],
      "source": [
        "save = tf.train.Checkpoint()\n",
        "save.listed = [tf.Variable(1.)]\n",
        "save.listed.append(tf.Variable(2.))\n",
        "save.mapped = {'one': save.listed[0]}\n",
        "save.mapped['two'] = save.listed[1]\n",
        "save_path = save.save('./tf_list_example')\n",
        "\n",
        "restore = tf.train.Checkpoint()\n",
        "v2 = tf.Variable(0.)\n",
        "assert 0. == v2.numpy()  # Not restored yet\n",
        "restore.mapped = {'two': v2}\n",
        "restore.restore(save_path)\n",
        "assert 2. == v2.numpy()"
      ]
    },
    {
      "cell_type": "markdown",
      "metadata": {
        "colab_type": "text",
        "id": "UTKvbxHcI3T2"
      },
      "source": [
        "Es posible que observe objetos contenedores para listas y diccionarios. Estos contenedores son versiones con puntos de control de las estructuras de datos subyacentes. Al igual que la carga basada en atributos, estos contenedores restauran el valor de una variable tan pronto como se agrega al contenedor."
      ]
    },
    {
      "cell_type": "code",
      "execution_count": 0,
      "metadata": {
        "colab": {
        },
        "colab_type": "code",
        "id": "s0Uq1Hv5JCmm"
      },
      "outputs": [

      ],
      "source": [
        "restore.listed = []\n",
        "print(restore.listed)  # ListWrapper([])\n",
        "v1 = tf.Variable(0.)\n",
        "restore.listed.append(v1)  # Restores v1, from restore() in the previous cell\n",
        "assert 1. == v1.numpy()"
      ]
    },
    {
      "cell_type": "markdown",
      "metadata": {
        "colab_type": "text",
        "id": "OxCIf2J6JyQ8"
      },
      "source": [
        "El mismo rastreo se aplica automáticamente a las subclases de `tf.keras.Model` , y puede usarse, por ejemplo, para rastrear listas de capas."
      ]
    },
    {
      "cell_type": "markdown",
      "metadata": {
        "colab_type": "text",
        "id": "zGG1tOM0L6iM"
      },
      "source": [
        "## Guardar puntos de control basados en objetos con Estimator\n",
        "\n",
        "See the [Estimator guide](https://www.tensorflow.org/guide/estimator).\n",
        "\n",
        "Los estimadores guardan de forma predeterminada los puntos de control con nombres de variables en lugar del gráfico de objetos descrito en las secciones anteriores. `tf.train.Checkpoint` aceptará puntos de control basados en nombres, pero los nombres de las variables pueden cambiar cuando se mueven partes de un modelo fuera del `model_fn` del Estimador. Guardar puntos de control basados en objetos hace que sea más fácil entrenar un modelo dentro de un Estimador y luego usarlo fuera de uno."
      ]
    },
    {
      "cell_type": "code",
      "execution_count": 0,
      "metadata": {
        "colab": {
        },
        "colab_type": "code",
        "id": "-8AMJeueNyoM"
      },
      "outputs": [

      ],
      "source": [
        "import tensorflow.compat.v1 as tf_compat"
      ]
    },
    {
      "cell_type": "code",
      "execution_count": 0,
      "metadata": {
        "colab": {
        },
        "colab_type": "code",
        "id": "T6fQsBzJQN2y"
      },
      "outputs": [

      ],
      "source": [
        "def model_fn(features, labels, mode):\n",
        "  net = Net()\n",
        "  opt = tf.keras.optimizers.Adam(0.1)\n",
        "  ckpt = tf.train.Checkpoint(step=tf_compat.train.get_global_step(),\n",
        "                             optimizer=opt, net=net)\n",
        "  with tf.GradientTape() as tape:\n",
        "    output = net(features['x'])\n",
        "    loss = tf.reduce_mean(tf.abs(output - features['y']))\n",
        "  variables = net.trainable_variables\n",
        "  gradients = tape.gradient(loss, variables)\n",
        "  return tf.estimator.EstimatorSpec(\n",
        "    mode,\n",
        "    loss=loss,\n",
        "    train_op=tf.group(opt.apply_gradients(zip(gradients, variables)),\n",
        "                      ckpt.step.assign_add(1)),\n",
        "    # Tell the Estimator to save \"ckpt\" in an object-based format.\n",
        "    scaffold=tf_compat.train.Scaffold(saver=ckpt))\n",
        "\n",
        "tf.keras.backend.clear_session()\n",
        "est = tf.estimator.Estimator(model_fn, './tf_estimator_example/')\n",
        "est.train(toy_dataset, steps=10)"
      ]
    },
    {
      "cell_type": "markdown",
      "metadata": {
        "colab_type": "text",
        "id": "tObYHnrrb_mL"
      },
      "source": [
        "`tf.train.Checkpoint` puede cargar los puntos de control del Estimador desde su `model_dir` ."
      ]
    },
    {
      "cell_type": "code",
      "execution_count": 0,
      "metadata": {
        "colab": {
        },
        "colab_type": "code",
        "id": "Q6IP3Y_wb-fs"
      },
      "outputs": [

      ],
      "source": [
        "opt = tf.keras.optimizers.Adam(0.1)\n",
        "net = Net()\n",
        "ckpt = tf.train.Checkpoint(\n",
        "  step=tf.Variable(1, dtype=tf.int64), optimizer=opt, net=net)\n",
        "ckpt.restore(tf.train.latest_checkpoint('./tf_estimator_example/'))\n",
        "ckpt.step.numpy()  # From est.train(..., steps=10)"
      ]
    },
    {
      "cell_type": "markdown",
      "metadata": {
        "colab_type": "text",
        "id": "knyUFMrJg8y4"
      },
      "source": [
        "## Resumen\n",
        "\n",
        "Los objetos de TensorFlow proporcionan un mecanismo automático sencillo para guardar y restaurar los valores de las variables que utilizan.\n"
      ]
    }
  ],
  "metadata": {
    "colab": {
      "collapsed_sections": [

      ],
      "name": "checkpoint.ipynb",
      "private_outputs": true,
      "provenance": [

      ],
      "toc_visible": true
    },
    "kernelspec": {
      "display_name": "Python 3",
      "name": "python3"
    }
  },
  "nbformat": 4,
  "nbformat_minor": 0
}
